{
 "cells": [
  {
   "cell_type": "code",
   "execution_count": null,
   "metadata": {},
   "outputs": [],
   "source": [
    "import numpy as np\n",
    "import matplotlib.pyplot as plt\n",
    "from sklearn import datasets\n",
    "from sklearn.model_selection import train_test_split\n",
    "from sklearn.linear_model import LogisticRegression\n",
    "from sklearn.tree import DecisionTreeClassifier\n",
    "from sklearn.naive_bayes import GaussianNB\n",
    "from sklearn.discriminant_analysis import LinearDiscriminantAnalysis\n",
    "from sklearn.neighbors import KNeighborsClassifier\n",
    "from sklearn.svm import SVC\n",
    "\n",
    "# metrics\n",
    "from sklearn.metrics import accuracy_score\n",
    "from sklearn.metrics import classification_report\n",
    "from sklearn.metrics import plot_confusion_matrix\n"
   ]
  },
  {
   "cell_type": "code",
   "execution_count": null,
   "metadata": {},
   "outputs": [],
   "source": [
    "# import some data to play with\n",
    "iris = datasets.load_iris()\n",
    "# Take the first two features. We could avoid this by using a two-dim dataset\n",
    "X = iris.data[:, :2]\n",
    "y = iris.target\n"
   ]
  },
  {
   "cell_type": "code",
   "execution_count": null,
   "metadata": {},
   "outputs": [],
   "source": [
    "#Split the dataset into train and test partitions\n",
    "x_train,x_test,y_train,y_test=train_test_split(X,y,test_size=0.20)\n",
    "\n",
    "print(\"Train Data Size: {}\".format(y_train.size))\n",
    "print(\"Test Data Size: {}\".format(y_test.size))"
   ]
  },
  {
   "cell_type": "code",
   "execution_count": null,
   "metadata": {},
   "outputs": [],
   "source": [
    "#Define some machine learning models to compare them\n",
    "models = []\n",
    "models.append( ('Logistic Regression Classifier',  LogisticRegression()) )\n",
    "models.append( ('Decision Tree (CART) Classifier', DecisionTreeClassifier()) )\n",
    "models.append( ('K-Nearest Neighbour Classifier',  KNeighborsClassifier()) )\n",
    "models.append( ('Naive Bayes Classifier',   GaussianNB()) )\n",
    "models.append( ('Linear Discriminant Analysis',  LinearDiscriminantAnalysis()) )\n",
    "models.append( ('Support Vector Machines',  SVC()) )\n"
   ]
  },
  {
   "cell_type": "code",
   "execution_count": null,
   "metadata": {},
   "outputs": [],
   "source": [
    "#Train the model and draw confusion matrices on the test data\n",
    "for name, model in models:\n",
    "    \n",
    "    #Train each model seperately on %80 of the data\n",
    "    trained_model=model.fit(x_train,y_train)\n",
    "    \n",
    "    #Test each model seperately on the remaining %20 of the data\n",
    "    y_pred=trained_model.predict(x_test)\n",
    "    \n",
    "    #Find the performance of each model\n",
    "    accuracy=accuracy_score(y_test,y_pred)\n",
    "    print(\"\\n Model Name: {}, Accuracy: {}\".format(name,accuracy))\n",
    "    \n",
    "    plot_confusion_matrix(trained_model, x_test, y_test, display_labels=iris.target_names)  \n",
    "    plt.show()"
   ]
  },
  {
   "cell_type": "code",
   "execution_count": null,
   "metadata": {},
   "outputs": [],
   "source": [
    "#Train the model and draw confusion matrices on the test data\n",
    "for name, model in models:\n",
    "    \n",
    "    #Train each model seperately on %80 of the data\n",
    "    trained_model=model.fit(x_train,y_train)\n",
    "    \n",
    "    #Test each model seperately on the remaining %20 of the data\n",
    "    y_pred=trained_model.predict(x_test)\n",
    "    \n",
    "    #Test each model seperately on the remaining %20 of the data\n",
    "    report=classification_report(y_test, y_pred)\n",
    "    print(\"\\n{}\\n{}\".format(name,report))"
   ]
  }
 ],
 "metadata": {
  "kernelspec": {
   "display_name": "Python 3",
   "language": "python",
   "name": "python3"
  },
  "language_info": {
   "codemirror_mode": {
    "name": "ipython",
    "version": 3
   },
   "file_extension": ".py",
   "mimetype": "text/x-python",
   "name": "python",
   "nbconvert_exporter": "python",
   "pygments_lexer": "ipython3",
   "version": "3.6.8"
  }
 },
 "nbformat": 4,
 "nbformat_minor": 4
}
